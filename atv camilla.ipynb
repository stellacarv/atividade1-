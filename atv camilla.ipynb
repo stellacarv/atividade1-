{
 "cells": [
  {
   "cell_type": "code",
   "execution_count": 5,
   "metadata": {},
   "outputs": [
    {
     "name": "stdout",
     "output_type": "stream",
     "text": [
      "Seu número escondido foi: 18\n"
     ]
    }
   ],
   "source": [
    "#pedir um número \n",
    "numero= int(input('Digite um número:'))\n",
    "print('Seu número escondido foi:',numero)"
   ]
  },
  {
   "cell_type": "code",
   "execution_count": 8,
   "metadata": {},
   "outputs": [
    {
     "name": "stdout",
     "output_type": "stream",
     "text": [
      "A soma dos dois números é igual: 12\n"
     ]
    }
   ],
   "source": [
    "#pede dois números\n",
    "numero= int(input('Digite um número'))\n",
    "numero2= int(input('Digite outro número'))\n",
    "#imprime a soma\n",
    "soma= numero + numero2\n",
    "print('A soma dos dois números é igual:', soma)"
   ]
  },
  {
   "cell_type": "code",
   "execution_count": 9,
   "metadata": {},
   "outputs": [
    {
     "name": "stdout",
     "output_type": "stream",
     "text": [
      "A média das notas é: 9.0\n"
     ]
    }
   ],
   "source": [
    "#pede 3 notas\n",
    "\n",
    "nota1= float(input('Digite sua nota:'))\n",
    "nota2= float(input('Digite sua nota:'))\n",
    "nota3= float(input('Digite sua nota:'))\n",
    "\n",
    "#imprime soma\n",
    "\n",
    "média= (nota1 + nota2 + nota3)/3\n",
    "print('A média das notas é:', média)\n"
   ]
  },
  {
   "cell_type": "code",
   "execution_count": 11,
   "metadata": {},
   "outputs": [
    {
     "name": "stdout",
     "output_type": "stream",
     "text": [
      "Seu salario é: 5400000\n"
     ]
    }
   ],
   "source": [
    "#pede valor por hora e por mes\n",
    "\n",
    "hora= int(input('Quanto voce ganha por hora?'))\n",
    "horaM= int(input('Quantas horas voce trabalha por mes?'))\n",
    "\n",
    "salario= hora * horaM\n",
    "print('Seu salario é:', salario)"
   ]
  }
 ],
 "metadata": {
  "kernelspec": {
   "display_name": "Python 3",
   "language": "python",
   "name": "python3"
  },
  "language_info": {
   "codemirror_mode": {
    "name": "ipython",
    "version": 3
   },
   "file_extension": ".py",
   "mimetype": "text/x-python",
   "name": "python",
   "nbconvert_exporter": "python",
   "pygments_lexer": "ipython3",
   "version": "3.11.9"
  }
 },
 "nbformat": 4,
 "nbformat_minor": 2
}
